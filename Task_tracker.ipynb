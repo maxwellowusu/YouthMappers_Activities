{
  "nbformat": 4,
  "nbformat_minor": 0,
  "metadata": {
    "colab": {
      "provenance": [],
      "authorship_tag": "ABX9TyPhuax+xXIZFLMZoz6URSwT",
      "include_colab_link": true
    },
    "kernelspec": {
      "name": "python3",
      "display_name": "Python 3"
    },
    "language_info": {
      "name": "python"
    }
  },
  "cells": [
    {
      "cell_type": "markdown",
      "metadata": {
        "id": "view-in-github",
        "colab_type": "text"
      },
      "source": [
        "<a href=\"https://colab.research.google.com/github/maxwellowusu/youthmappers_activities/blob/main/Task_tracker.ipynb\" target=\"_parent\"><img src=\"https://colab.research.google.com/assets/colab-badge.svg\" alt=\"Open In Colab\"/></a>"
      ]
    },
    {
      "cell_type": "markdown",
      "source": [
        "# Task Monitor\n",
        "\n",
        "This script provide metrics on the progress of projects in both HIT and Teach Task Manager. \n",
        "\n",
        "- Input parameter = project id\n",
        "- Output = metrics about project. Organisation names, Ccountry, percent mapped, percent validated and last updated.\n",
        "\n",
        "-------------------------------------------------------------------------------\n",
        "\n",
        "\n",
        "- **Use HOT task maanger to projects created in HOT TM**\n",
        "- **Use Teach manager for projects created in Teach TM** \n",
        "-------------------------------------------------------------------------------\n",
        "Created by Maxwell Owusu, Decemeber 2021"
      ],
      "metadata": {
        "id": "w4SQheZc1mzA"
      }
    },
    {
      "cell_type": "markdown",
      "source": [
        "# HOT task manager \n",
        "\n",
        "### Get percent mapped and Validated \n",
        "\n",
        "step 1: run the cell below and type the task ID:\n",
        "\n"
      ],
      "metadata": {
        "id": "CLi5TlZ2t73K"
      }
    },
    {
      "cell_type": "code",
      "source": [
        "import requests\n",
        "import json\n",
        "import pandas as pd\n",
        "import numpy as np\n",
        "# Identify project and project id in HOT Tasking Manager and use the latter to\n",
        "# request project data\n",
        "project_id = int(input('Type project ID here: '))\n",
        "\n",
        "hot_base_url = 'https://tasking-manager-tm4-production-api.hotosm.org'\n",
        "\n",
        "# Retrieve relevant project meta data information via HOT Tasking Manager API\n",
        "\n",
        "project_api_endpoint = f'{hot_base_url}/api/v2/projects/{project_id}'\n",
        "project_info = requests.get(project_api_endpoint).json()\n",
        "\n",
        "# Retrieve individual task geometries via HOT Tasking Manager API\n",
        "\n",
        "tasks_api_endpoint = f'{hot_base_url}/api/v2/projects/{project_id}/tasks'\n",
        "task_geometries = requests.get(tasks_api_endpoint).json()\n",
        "project_info['taskGeometries'] = task_geometries\n",
        "\n",
        "# Display the accessed project information in a table\n",
        "df = pd.DataFrame.from_dict(\n",
        "    project_info, orient='index',\n",
        "    columns=['HOT Tasking Manager project information'])\n",
        "df = df.T\n",
        "df.head()\n",
        "mapped_val = df[['projectId','organisationName', 'countryTag', 'percentMapped', 'percentValidated', 'lastUpdated']]\n",
        "print(mapped_val.to_markdown())"
      ],
      "metadata": {
        "colab": {
          "base_uri": "https://localhost:8080/"
        },
        "id": "EDPZBJG8prPA",
        "outputId": "dfe0f035-c53c-4ed1-daa8-f2307e23f84f"
      },
      "execution_count": null,
      "outputs": [
        {
          "output_type": "stream",
          "name": "stdout",
          "text": [
            "Type project ID here: 12202\n",
            "|                                         |   projectId | organisationName   | countryTag   |   percentMapped |   percentValidated | lastUpdated                 |\n",
            "|:----------------------------------------|------------:|:-------------------|:-------------|----------------:|-------------------:|:----------------------------|\n",
            "| HOT Tasking Manager project information |       12202 | YouthMappers       | ['Uganda']   |              98 |                 87 | 2022-05-12T14:01:08.693886Z |\n"
          ]
        }
      ]
    },
    {
      "cell_type": "markdown",
      "source": [
        " # Teach  task manager \n",
        "\n",
        " ### Get percent mapped and Validated \n",
        "\n",
        "step 1: run the cell below and type the task ID:"
      ],
      "metadata": {
        "id": "dzmfQeP6FABZ"
      }
    },
    {
      "cell_type": "code",
      "source": [
        "import requests\n",
        "import json\n",
        "import pandas as pd\n",
        "project_id = int(input('Type project ID here: '))\n",
        "\n",
        "teach_base_url = 'http://tasking-manager-tm4-teachosm-api.hotosm.org'\n",
        "\n",
        "# Retrieve relevant project meta data information via HOT Tasking Manager API\n",
        "\n",
        "project_api_endpoint = f'{teach_base_url}/api/v2/projects/{project_id}'\n",
        "project_info = requests.get(project_api_endpoint).json()\n",
        "\n",
        "# Retrieve individual task geometries via HOT Tasking Manager API\n",
        "\n",
        "tasks_api_endpoint = f'{teach_base_url}/api/v2/projects/{project_id}/tasks'\n",
        "task_geometries = requests.get(tasks_api_endpoint).json()\n",
        "project_info['taskGeometries'] = task_geometries\n",
        "\n",
        "# Display the accessed project information in a table\n",
        "df = pd.DataFrame.from_dict(\n",
        "    project_info, orient='index',\n",
        "    columns=['Teach Tasking Manager project information'])\n",
        "df = df.T\n",
        "df.head()\n",
        "mapped_val = df[['projectId','organisationName', 'countryTag', 'percentMapped', 'percentValidated', 'lastUpdated']]\n",
        "print(mapped_val.to_markdown())"
      ],
      "metadata": {
        "id": "FYw11YTc4vtR",
        "colab": {
          "base_uri": "https://localhost:8080/"
        },
        "outputId": "c599d2be-9cc5-4917-f635-890fa0c1ea03"
      },
      "execution_count": null,
      "outputs": [
        {
          "output_type": "stream",
          "name": "stdout",
          "text": [
            "Type project ID here: 1333\n",
            "|                                           |   projectId | organisationName   | countryTag       |   percentMapped |   percentValidated | lastUpdated                 |\n",
            "|:------------------------------------------|------------:|:-------------------|:-----------------|----------------:|-------------------:|:----------------------------|\n",
            "| Teach Tasking Manager project information |        1333 | YouthMappers       | ['Sierra Leone'] |              95 |                 92 | 2022-04-22T00:38:15.207538Z |\n"
          ]
        }
      ]
    },
    {
      "cell_type": "code",
      "source": [],
      "metadata": {
        "id": "h_KQ0AurXrD2"
      },
      "execution_count": null,
      "outputs": []
    }
  ]
}